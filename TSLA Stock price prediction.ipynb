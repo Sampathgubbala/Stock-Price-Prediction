{
 "cells": [
  {
   "cell_type": "code",
   "execution_count": 1,
   "metadata": {},
   "outputs": [
    {
     "name": "stderr",
     "output_type": "stream",
     "text": [
      "Using TensorFlow backend.\n"
     ]
    }
   ],
   "source": [
    "import pandas as pd\n",
    "import numpy as np\n",
    "import matplotlib.pyplot as plt\n",
    "from sklearn import preprocessing, svm\n",
    "import statsmodels.tsa.api as smt\n",
    "import statsmodels.api as sm\n",
    "import math\n",
    "import pandas_datareader as web\n",
    "from sklearn.preprocessing import MinMaxScaler\n",
    "from keras.layers import Dense,LSTM\n",
    "from tensorflow.keras import Sequential\n",
    "from keras.models import Sequential\n",
    "import pandas_datareader as pdr\n",
    "from pandas_datareader import data, wb"
   ]
  },
  {
   "cell_type": "code",
   "execution_count": 2,
   "metadata": {
    "scrolled": true
   },
   "outputs": [
    {
     "data": {
      "text/html": [
       "<div>\n",
       "<style scoped>\n",
       "    .dataframe tbody tr th:only-of-type {\n",
       "        vertical-align: middle;\n",
       "    }\n",
       "\n",
       "    .dataframe tbody tr th {\n",
       "        vertical-align: top;\n",
       "    }\n",
       "\n",
       "    .dataframe thead th {\n",
       "        text-align: right;\n",
       "    }\n",
       "</style>\n",
       "<table border=\"1\" class=\"dataframe\">\n",
       "  <thead>\n",
       "    <tr style=\"text-align: right;\">\n",
       "      <th></th>\n",
       "      <th>High</th>\n",
       "      <th>Low</th>\n",
       "      <th>Open</th>\n",
       "      <th>Close</th>\n",
       "      <th>Volume</th>\n",
       "      <th>Adj Close</th>\n",
       "    </tr>\n",
       "    <tr>\n",
       "      <th>Date</th>\n",
       "      <th></th>\n",
       "      <th></th>\n",
       "      <th></th>\n",
       "      <th></th>\n",
       "      <th></th>\n",
       "      <th></th>\n",
       "    </tr>\n",
       "  </thead>\n",
       "  <tbody>\n",
       "    <tr>\n",
       "      <td>2010-07-01</td>\n",
       "      <td>5.184000</td>\n",
       "      <td>4.054000</td>\n",
       "      <td>5.000000</td>\n",
       "      <td>4.392000</td>\n",
       "      <td>41094000.0</td>\n",
       "      <td>4.392000</td>\n",
       "    </tr>\n",
       "    <tr>\n",
       "      <td>2010-07-02</td>\n",
       "      <td>4.620000</td>\n",
       "      <td>3.742000</td>\n",
       "      <td>4.600000</td>\n",
       "      <td>3.840000</td>\n",
       "      <td>25699000.0</td>\n",
       "      <td>3.840000</td>\n",
       "    </tr>\n",
       "    <tr>\n",
       "      <td>2010-07-06</td>\n",
       "      <td>4.000000</td>\n",
       "      <td>3.166000</td>\n",
       "      <td>4.000000</td>\n",
       "      <td>3.222000</td>\n",
       "      <td>34334500.0</td>\n",
       "      <td>3.222000</td>\n",
       "    </tr>\n",
       "    <tr>\n",
       "      <td>2010-07-07</td>\n",
       "      <td>3.326000</td>\n",
       "      <td>2.996000</td>\n",
       "      <td>3.280000</td>\n",
       "      <td>3.160000</td>\n",
       "      <td>34608500.0</td>\n",
       "      <td>3.160000</td>\n",
       "    </tr>\n",
       "    <tr>\n",
       "      <td>2010-07-08</td>\n",
       "      <td>3.504000</td>\n",
       "      <td>3.114000</td>\n",
       "      <td>3.228000</td>\n",
       "      <td>3.492000</td>\n",
       "      <td>38557000.0</td>\n",
       "      <td>3.492000</td>\n",
       "    </tr>\n",
       "    <tr>\n",
       "      <td>...</td>\n",
       "      <td>...</td>\n",
       "      <td>...</td>\n",
       "      <td>...</td>\n",
       "      <td>...</td>\n",
       "      <td>...</td>\n",
       "      <td>...</td>\n",
       "    </tr>\n",
       "    <tr>\n",
       "      <td>2021-02-17</td>\n",
       "      <td>799.840027</td>\n",
       "      <td>762.010010</td>\n",
       "      <td>779.090027</td>\n",
       "      <td>798.150024</td>\n",
       "      <td>25996500.0</td>\n",
       "      <td>798.150024</td>\n",
       "    </tr>\n",
       "    <tr>\n",
       "      <td>2021-02-18</td>\n",
       "      <td>794.690002</td>\n",
       "      <td>776.270020</td>\n",
       "      <td>780.900024</td>\n",
       "      <td>787.380005</td>\n",
       "      <td>17897000.0</td>\n",
       "      <td>787.380005</td>\n",
       "    </tr>\n",
       "    <tr>\n",
       "      <td>2021-02-19</td>\n",
       "      <td>796.789978</td>\n",
       "      <td>777.369995</td>\n",
       "      <td>795.000000</td>\n",
       "      <td>781.299988</td>\n",
       "      <td>18904800.0</td>\n",
       "      <td>781.299988</td>\n",
       "    </tr>\n",
       "    <tr>\n",
       "      <td>2021-02-22</td>\n",
       "      <td>768.500000</td>\n",
       "      <td>710.200012</td>\n",
       "      <td>762.640015</td>\n",
       "      <td>714.500000</td>\n",
       "      <td>37011700.0</td>\n",
       "      <td>714.500000</td>\n",
       "    </tr>\n",
       "    <tr>\n",
       "      <td>2021-02-23</td>\n",
       "      <td>713.609924</td>\n",
       "      <td>619.500000</td>\n",
       "      <td>662.130005</td>\n",
       "      <td>698.840027</td>\n",
       "      <td>66606882.0</td>\n",
       "      <td>698.840027</td>\n",
       "    </tr>\n",
       "  </tbody>\n",
       "</table>\n",
       "<p>2680 rows × 6 columns</p>\n",
       "</div>"
      ],
      "text/plain": [
       "                  High         Low        Open       Close      Volume  \\\n",
       "Date                                                                     \n",
       "2010-07-01    5.184000    4.054000    5.000000    4.392000  41094000.0   \n",
       "2010-07-02    4.620000    3.742000    4.600000    3.840000  25699000.0   \n",
       "2010-07-06    4.000000    3.166000    4.000000    3.222000  34334500.0   \n",
       "2010-07-07    3.326000    2.996000    3.280000    3.160000  34608500.0   \n",
       "2010-07-08    3.504000    3.114000    3.228000    3.492000  38557000.0   \n",
       "...                ...         ...         ...         ...         ...   \n",
       "2021-02-17  799.840027  762.010010  779.090027  798.150024  25996500.0   \n",
       "2021-02-18  794.690002  776.270020  780.900024  787.380005  17897000.0   \n",
       "2021-02-19  796.789978  777.369995  795.000000  781.299988  18904800.0   \n",
       "2021-02-22  768.500000  710.200012  762.640015  714.500000  37011700.0   \n",
       "2021-02-23  713.609924  619.500000  662.130005  698.840027  66606882.0   \n",
       "\n",
       "             Adj Close  \n",
       "Date                    \n",
       "2010-07-01    4.392000  \n",
       "2010-07-02    3.840000  \n",
       "2010-07-06    3.222000  \n",
       "2010-07-07    3.160000  \n",
       "2010-07-08    3.492000  \n",
       "...                ...  \n",
       "2021-02-17  798.150024  \n",
       "2021-02-18  787.380005  \n",
       "2021-02-19  781.299988  \n",
       "2021-02-22  714.500000  \n",
       "2021-02-23  698.840027  \n",
       "\n",
       "[2680 rows x 6 columns]"
      ]
     },
     "execution_count": 2,
     "metadata": {},
     "output_type": "execute_result"
    }
   ],
   "source": [
    "#df = pd.read_csv('Downloads/AAL.csv')\n",
    "df = pdr.get_data_yahoo('TSLA', start = '2010-07-01', end = '2021-02-23')\n",
    "#df.drop(['Volume','Open','High','Low','Adj Close'],axis=1,inplace=True)\n",
    "#df[\"Date\"] = pd.to_datetime(df['Date'], format='%Y.%m.%d')\n",
    "df"
   ]
  },
  {
   "cell_type": "code",
   "execution_count": 3,
   "metadata": {},
   "outputs": [],
   "source": [
    "data = df.filter(['Close'])\n",
    "dataset = data.values"
   ]
  },
  {
   "cell_type": "code",
   "execution_count": 4,
   "metadata": {},
   "outputs": [],
   "source": [
    "ts = df.groupby(\"Date\")[\"Close\"].sum().rename(\"Trend\")"
   ]
  },
  {
   "cell_type": "code",
   "execution_count": 5,
   "metadata": {},
   "outputs": [
    {
     "data": {
      "text/plain": [
       "<matplotlib.axes._subplots.AxesSubplot at 0x7fa21bafeb10>"
      ]
     },
     "execution_count": 5,
     "metadata": {},
     "output_type": "execute_result"
    },
    {
     "data": {
      "image/png": "[encoded data removed]",
      "text/plain": [
       "<Figure size 432x288 with 1 Axes>"
      ]
     },
     "metadata": {
      "needs_background": "light"
     },
     "output_type": "display_data"
    }
   ],
   "source": [
    "ts.plot()"
   ]
  },
  {
   "cell_type": "code",
   "execution_count": 6,
   "metadata": {},
   "outputs": [],
   "source": [
    "train_data_length = math.ceil(len(dataset)* 0.8)\n",
    "scaler = MinMaxScaler(feature_range = (0,1))\n",
    "scaled_data = scaler.fit_transform(dataset)"
   ]
  },
  {
   "cell_type": "code",
   "execution_count": 7,
   "metadata": {},
   "outputs": [
    {
     "name": "stdout",
     "output_type": "stream",
     "text": [
      "[array([1.40011146e-03, 7.72788526e-04, 7.04599183e-05, 0.00000000e+00,\n",
      "       3.77302748e-04, 3.63665205e-04, 2.84113500e-04, 5.31860399e-04,\n",
      "       9.18254662e-04, 9.29619191e-04, 1.10008713e-03, 1.38874666e-03,\n",
      "       1.02280844e-03, 1.00462541e-03, 1.18191185e-03, 1.24782628e-03,\n",
      "       1.17054759e-03, 1.07963136e-03, 1.11827070e-03, 1.03417324e-03,\n",
      "       9.40983720e-04, 1.16372882e-03, 1.39783817e-03, 1.24100751e-03,\n",
      "       1.05690230e-03, 8.61432016e-04, 8.63705030e-04, 7.34149181e-04,\n",
      "       4.77310496e-04, 4.09123321e-04, 5.72772758e-04, 6.77326535e-04,\n",
      "       7.61423997e-04, 6.75053521e-04, 6.79599278e-04, 7.50059468e-04,\n",
      "       9.84169094e-04, 7.72788526e-04, 9.31892205e-04, 8.97798618e-04,\n",
      "       8.86434089e-04, 9.25073434e-04, 8.36429944e-04, 1.05690230e-03,\n",
      "       1.19554939e-03, 1.19327665e-03, 1.07735807e-03, 1.15918279e-03,\n",
      "       1.11599796e-03, 9.93260609e-04, 1.11827070e-03, 1.20918693e-03,\n",
      "       1.40465694e-03, 1.16827485e-03, 1.00689815e-03, 1.19554939e-03,\n",
      "       1.12963496e-03, 9.25073434e-04, 8.54613244e-04, 9.77350322e-04])]\n",
      "[0.0010750853272236487]\n",
      "\n",
      "[array([1.40011146e-03, 7.72788526e-04, 7.04599183e-05, 0.00000000e+00,\n",
      "       3.77302748e-04, 3.63665205e-04, 2.84113500e-04, 5.31860399e-04,\n",
      "       9.18254662e-04, 9.29619191e-04, 1.10008713e-03, 1.38874666e-03,\n",
      "       1.02280844e-03, 1.00462541e-03, 1.18191185e-03, 1.24782628e-03,\n",
      "       1.17054759e-03, 1.07963136e-03, 1.11827070e-03, 1.03417324e-03,\n",
      "       9.40983720e-04, 1.16372882e-03, 1.39783817e-03, 1.24100751e-03,\n",
      "       1.05690230e-03, 8.61432016e-04, 8.63705030e-04, 7.34149181e-04,\n",
      "       4.77310496e-04, 4.09123321e-04, 5.72772758e-04, 6.77326535e-04,\n",
      "       7.61423997e-04, 6.75053521e-04, 6.79599278e-04, 7.50059468e-04,\n",
      "       9.84169094e-04, 7.72788526e-04, 9.31892205e-04, 8.97798618e-04,\n",
      "       8.86434089e-04, 9.25073434e-04, 8.36429944e-04, 1.05690230e-03,\n",
      "       1.19554939e-03, 1.19327665e-03, 1.07735807e-03, 1.15918279e-03,\n",
      "       1.11599796e-03, 9.93260609e-04, 1.11827070e-03, 1.20918693e-03,\n",
      "       1.40465694e-03, 1.16827485e-03, 1.00689815e-03, 1.19554939e-03,\n",
      "       1.12963496e-03, 9.25073434e-04, 8.54613244e-04, 9.77350322e-04]), array([7.72788526e-04, 7.04599183e-05, 0.00000000e+00, 3.77302748e-04,\n",
      "       3.63665205e-04, 2.84113500e-04, 5.31860399e-04, 9.18254662e-04,\n",
      "       9.29619191e-04, 1.10008713e-03, 1.38874666e-03, 1.02280844e-03,\n",
      "       1.00462541e-03, 1.18191185e-03, 1.24782628e-03, 1.17054759e-03,\n",
      "       1.07963136e-03, 1.11827070e-03, 1.03417324e-03, 9.40983720e-04,\n",
      "       1.16372882e-03, 1.39783817e-03, 1.24100751e-03, 1.05690230e-03,\n",
      "       8.61432016e-04, 8.63705030e-04, 7.34149181e-04, 4.77310496e-04,\n",
      "       4.09123321e-04, 5.72772758e-04, 6.77326535e-04, 7.61423997e-04,\n",
      "       6.75053521e-04, 6.79599278e-04, 7.50059468e-04, 9.84169094e-04,\n",
      "       7.72788526e-04, 9.31892205e-04, 8.97798618e-04, 8.86434089e-04,\n",
      "       9.25073434e-04, 8.36429944e-04, 1.05690230e-03, 1.19554939e-03,\n",
      "       1.19327665e-03, 1.07735807e-03, 1.15918279e-03, 1.11599796e-03,\n",
      "       9.93260609e-04, 1.11827070e-03, 1.20918693e-03, 1.40465694e-03,\n",
      "       1.16827485e-03, 1.00689815e-03, 1.19554939e-03, 1.12963496e-03,\n",
      "       9.25073434e-04, 8.54613244e-04, 9.77350322e-04, 1.07508533e-03])]\n",
      "[0.0010750853272236487, 0.001272828622622822]\n",
      "\n"
     ]
    }
   ],
   "source": [
    "train_data = scaled_data[0:train_data_length, : ]\n",
    "x_train = []\n",
    "y_train = []\n",
    "\n",
    "for i in range(60,len(train_data)):\n",
    "    x_train.append(train_data[i-60:i,0])\n",
    "    y_train.append(train_data[i,0])\n",
    "    if i<= 61:\n",
    "        print(x_train)\n",
    "        print(y_train)\n",
    "        print()"
   ]
  },
  {
   "cell_type": "code",
   "execution_count": 8,
   "metadata": {},
   "outputs": [
    {
     "data": {
      "text/plain": [
       "(2084, 60, 1)"
      ]
     },
     "execution_count": 8,
     "metadata": {},
     "output_type": "execute_result"
    }
   ],
   "source": [
    "x_train = np.array(x_train)\n",
    "y_train = np.array(y_train)\n",
    "x_train = np.reshape(x_train,(x_train.shape[0],x_train.shape[1],1))\n",
    "x_train.shape"
   ]
  },
  {
   "cell_type": "code",
   "execution_count": 9,
   "metadata": {},
   "outputs": [
    {
     "name": "stdout",
     "output_type": "stream",
     "text": [
      "Epoch 1/1\n",
      "2084/2084 [==============================] - 109s 52ms/step - loss: 3.5075e-05\n"
     ]
    },
    {
     "data": {
      "text/plain": [
       "<keras.callbacks.callbacks.History at 0x7fa225cd74d0>"
      ]
     },
     "execution_count": 9,
     "metadata": {},
     "output_type": "execute_result"
    }
   ],
   "source": [
    "model = Sequential()\n",
    "model.add(LSTM(50,return_sequences=True,input_shape=(x_train.shape[1],1)))\n",
    "model.add(LSTM(50,return_sequences=False))\n",
    "model.add(Dense(25))\n",
    "model.add(Dense(1))\n",
    "model.compile(optimizer='adam',loss = 'mean_squared_error')\n",
    "model.fit(x_train,y_train,batch_size=1,epochs=1)"
   ]
  },
  {
   "cell_type": "code",
   "execution_count": 10,
   "metadata": {},
   "outputs": [],
   "source": [
    "test_data = scaled_data[train_data_length-60:, :]\n",
    "x_test = []\n",
    "y_test = dataset[train_data_length:, :]\n",
    "for i in range(60,len(test_data)):\n",
    "    x_test.append(test_data[i-60:i,0])"
   ]
  },
  {
   "cell_type": "code",
   "execution_count": 11,
   "metadata": {},
   "outputs": [],
   "source": [
    "x_test = np.array(x_test)\n",
    "x_test = np.reshape(x_test,(x_test.shape[0],x_test.shape[1],1))\n",
    "predictions = model.predict(x_test)\n",
    "predictions = scaler.inverse_transform(predictions)"
   ]
  },
  {
   "cell_type": "code",
   "execution_count": 12,
   "metadata": {},
   "outputs": [
    {
     "data": {
      "text/plain": [
       "39.03415961052055"
      ]
     },
     "execution_count": 12,
     "metadata": {},
     "output_type": "execute_result"
    }
   ],
   "source": [
    "rmse = np.sqrt(np.mean(predictions - y_test)**2)\n",
    "rmse"
   ]
  },
  {
   "cell_type": "code",
   "execution_count": 13,
   "metadata": {
    "scrolled": true
   },
   "outputs": [
    {
     "name": "stderr",
     "output_type": "stream",
     "text": [
      "/Users/sampathgubbala/opt/anaconda3/lib/python3.7/site-packages/ipykernel_launcher.py:3: SettingWithCopyWarning: \n",
      "A value is trying to be set on a copy of a slice from a DataFrame.\n",
      "Try using .loc[row_indexer,col_indexer] = value instead\n",
      "\n",
      "See the caveats in the documentation: http://pandas.pydata.org/pandas-docs/stable/user_guide/indexing.html#returning-a-view-versus-a-copy\n",
      "  This is separate from the ipykernel package so we can avoid doing imports until\n"
     ]
    },
    {
     "data": {
      "image/png": "[encoded data removed]",
      "text/plain": [
       "<Figure size 1152x576 with 1 Axes>"
      ]
     },
     "metadata": {
      "needs_background": "light"
     },
     "output_type": "display_data"
    }
   ],
   "source": [
    "train = data[:train_data_length]\n",
    "valid = data[train_data_length:]\n",
    "valid['predictions']= predictions\n",
    "plt.figure(figsize = (16,8))\n",
    "plt.xlabel('Date')\n",
    "plt.ylabel('Close Price')\n",
    "plt.plot(train['Close'])\n",
    "plt.plot(valid[['Close','predictions']])\n",
    "plt.legend(['Train','Val','predictions'])\n",
    "plt.show()"
   ]
  },
  {
   "cell_type": "code",
   "execution_count": 14,
   "metadata": {},
   "outputs": [
    {
     "data": {
      "text/html": [
       "<div>\n",
       "<style scoped>\n",
       "    .dataframe tbody tr th:only-of-type {\n",
       "        vertical-align: middle;\n",
       "    }\n",
       "\n",
       "    .dataframe tbody tr th {\n",
       "        vertical-align: top;\n",
       "    }\n",
       "\n",
       "    .dataframe thead th {\n",
       "        text-align: right;\n",
       "    }\n",
       "</style>\n",
       "<table border=\"1\" class=\"dataframe\">\n",
       "  <thead>\n",
       "    <tr style=\"text-align: right;\">\n",
       "      <th></th>\n",
       "      <th>Close</th>\n",
       "      <th>predictions</th>\n",
       "    </tr>\n",
       "    <tr>\n",
       "      <th>Date</th>\n",
       "      <th></th>\n",
       "      <th></th>\n",
       "    </tr>\n",
       "  </thead>\n",
       "  <tbody>\n",
       "    <tr>\n",
       "      <td>2019-01-08</td>\n",
       "      <td>67.070000</td>\n",
       "      <td>66.934868</td>\n",
       "    </tr>\n",
       "    <tr>\n",
       "      <td>2019-01-09</td>\n",
       "      <td>67.706001</td>\n",
       "      <td>67.448624</td>\n",
       "    </tr>\n",
       "    <tr>\n",
       "      <td>2019-01-10</td>\n",
       "      <td>68.994003</td>\n",
       "      <td>68.081795</td>\n",
       "    </tr>\n",
       "    <tr>\n",
       "      <td>2019-01-11</td>\n",
       "      <td>69.452003</td>\n",
       "      <td>68.833580</td>\n",
       "    </tr>\n",
       "    <tr>\n",
       "      <td>2019-01-14</td>\n",
       "      <td>66.879997</td>\n",
       "      <td>69.592331</td>\n",
       "    </tr>\n",
       "    <tr>\n",
       "      <td>...</td>\n",
       "      <td>...</td>\n",
       "      <td>...</td>\n",
       "    </tr>\n",
       "    <tr>\n",
       "      <td>2021-02-17</td>\n",
       "      <td>798.150024</td>\n",
       "      <td>577.616821</td>\n",
       "    </tr>\n",
       "    <tr>\n",
       "      <td>2021-02-18</td>\n",
       "      <td>787.380005</td>\n",
       "      <td>573.782471</td>\n",
       "    </tr>\n",
       "    <tr>\n",
       "      <td>2021-02-19</td>\n",
       "      <td>781.299988</td>\n",
       "      <td>569.878845</td>\n",
       "    </tr>\n",
       "    <tr>\n",
       "      <td>2021-02-22</td>\n",
       "      <td>714.500000</td>\n",
       "      <td>566.102905</td>\n",
       "    </tr>\n",
       "    <tr>\n",
       "      <td>2021-02-23</td>\n",
       "      <td>698.840027</td>\n",
       "      <td>556.929871</td>\n",
       "    </tr>\n",
       "  </tbody>\n",
       "</table>\n",
       "<p>536 rows × 2 columns</p>\n",
       "</div>"
      ],
      "text/plain": [
       "                 Close  predictions\n",
       "Date                               \n",
       "2019-01-08   67.070000    66.934868\n",
       "2019-01-09   67.706001    67.448624\n",
       "2019-01-10   68.994003    68.081795\n",
       "2019-01-11   69.452003    68.833580\n",
       "2019-01-14   66.879997    69.592331\n",
       "...                ...          ...\n",
       "2021-02-17  798.150024   577.616821\n",
       "2021-02-18  787.380005   573.782471\n",
       "2021-02-19  781.299988   569.878845\n",
       "2021-02-22  714.500000   566.102905\n",
       "2021-02-23  698.840027   556.929871\n",
       "\n",
       "[536 rows x 2 columns]"
      ]
     },
     "execution_count": 14,
     "metadata": {},
     "output_type": "execute_result"
    }
   ],
   "source": [
    "valid"
   ]
  },
  {
   "cell_type": "code",
   "execution_count": 15,
   "metadata": {},
   "outputs": [],
   "source": [
    "df_2 = df.filter(['Close']) \n",
    "last_60days = df_2[-60: ].values \n",
    "last_60days_scaled = scaler.transform(last_60days)"
   ]
  },
  {
   "cell_type": "code",
   "execution_count": 16,
   "metadata": {},
   "outputs": [],
   "source": [
    "X_test = []\n",
    "X_test.append(last_60days_scaled)\n",
    "X_test = np.array(X_test)\n",
    "X_test = np.reshape(X_test,(X_test.shape[0],X_test.shape[1],1))"
   ]
  },
  {
   "cell_type": "code",
   "execution_count": 17,
   "metadata": {},
   "outputs": [
    {
     "name": "stdout",
     "output_type": "stream",
     "text": [
      "[[545.75586]]\n"
     ]
    }
   ],
   "source": [
    "pred_price = model.predict(X_test)\n",
    "pred_price = scaler.inverse_transform(pred_price)\n",
    "print(pred_price)"
   ]
  },
  {
   "cell_type": "code",
   "execution_count": null,
   "metadata": {},
   "outputs": [],
   "source": []
  },
  {
   "cell_type": "code",
   "execution_count": null,
   "metadata": {},
   "outputs": [],
   "source": []
  }
 ],
 "metadata": {
  "kernelspec": {
   "display_name": "Python 3",
   "language": "python",
   "name": "python3"
  },
  "language_info": {
   "codemirror_mode": {
    "name": "ipython",
    "version": 3
   },
   "file_extension": ".py",
   "mimetype": "text/x-python",
   "name": "python",
   "nbconvert_exporter": "python",
   "pygments_lexer": "ipython3",
   "version": "3.7.4"
  }
 },
 "nbformat": 4,
 "nbformat_minor": 2
}
