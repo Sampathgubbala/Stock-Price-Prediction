{
 "cells": [
  {
   "cell_type": "code",
   "execution_count": 1,
   "metadata": {},
   "outputs": [
    {
     "name": "stderr",
     "output_type": "stream",
     "text": [
      "Using TensorFlow backend.\n"
     ]
    }
   ],
   "source": [
    "import pandas as pd\n",
    "import numpy as np\n",
    "import matplotlib.pyplot as plt\n",
    "from sklearn import preprocessing, svm\n",
    "import statsmodels.tsa.api as smt\n",
    "import statsmodels.api as sm\n",
    "import math\n",
    "import pandas_datareader as web\n",
    "from sklearn.preprocessing import MinMaxScaler\n",
    "from keras.layers import Dense,LSTM\n",
    "from tensorflow.keras import Sequential\n",
    "from keras.models import Sequential\n",
    "import pandas_datareader as pdr\n",
    "from pandas_datareader import data, wb"
   ]
  },
  {
   "cell_type": "code",
   "execution_count": 2,
   "metadata": {
    "scrolled": true
   },
   "outputs": [
    {
     "data": {
      "text/html": [
       "<div>\n",
       "<style scoped>\n",
       "    .dataframe tbody tr th:only-of-type {\n",
       "        vertical-align: middle;\n",
       "    }\n",
       "\n",
       "    .dataframe tbody tr th {\n",
       "        vertical-align: top;\n",
       "    }\n",
       "\n",
       "    .dataframe thead th {\n",
       "        text-align: right;\n",
       "    }\n",
       "</style>\n",
       "<table border=\"1\" class=\"dataframe\">\n",
       "  <thead>\n",
       "    <tr style=\"text-align: right;\">\n",
       "      <th></th>\n",
       "      <th>High</th>\n",
       "      <th>Low</th>\n",
       "      <th>Open</th>\n",
       "      <th>Close</th>\n",
       "      <th>Volume</th>\n",
       "      <th>Adj Close</th>\n",
       "    </tr>\n",
       "    <tr>\n",
       "      <th>Date</th>\n",
       "      <th></th>\n",
       "      <th></th>\n",
       "      <th></th>\n",
       "      <th></th>\n",
       "      <th></th>\n",
       "      <th></th>\n",
       "    </tr>\n",
       "  </thead>\n",
       "  <tbody>\n",
       "    <tr>\n",
       "      <td>2015-04-01</td>\n",
       "      <td>51.380001</td>\n",
       "      <td>50.110001</td>\n",
       "      <td>51.099998</td>\n",
       "      <td>50.439999</td>\n",
       "      <td>15191500.0</td>\n",
       "      <td>47.888901</td>\n",
       "    </tr>\n",
       "    <tr>\n",
       "      <td>2015-04-02</td>\n",
       "      <td>50.849998</td>\n",
       "      <td>49.150002</td>\n",
       "      <td>50.480000</td>\n",
       "      <td>49.180000</td>\n",
       "      <td>14109800.0</td>\n",
       "      <td>46.692623</td>\n",
       "    </tr>\n",
       "    <tr>\n",
       "      <td>2015-04-06</td>\n",
       "      <td>48.689999</td>\n",
       "      <td>47.669998</td>\n",
       "      <td>48.349998</td>\n",
       "      <td>48.080002</td>\n",
       "      <td>13323400.0</td>\n",
       "      <td>45.648262</td>\n",
       "    </tr>\n",
       "    <tr>\n",
       "      <td>2015-04-07</td>\n",
       "      <td>48.799999</td>\n",
       "      <td>47.490002</td>\n",
       "      <td>48.299999</td>\n",
       "      <td>47.500000</td>\n",
       "      <td>9393200.0</td>\n",
       "      <td>45.097588</td>\n",
       "    </tr>\n",
       "    <tr>\n",
       "      <td>2015-04-08</td>\n",
       "      <td>49.090000</td>\n",
       "      <td>47.730000</td>\n",
       "      <td>47.799999</td>\n",
       "      <td>48.740002</td>\n",
       "      <td>11180000.0</td>\n",
       "      <td>46.274883</td>\n",
       "    </tr>\n",
       "    <tr>\n",
       "      <td>...</td>\n",
       "      <td>...</td>\n",
       "      <td>...</td>\n",
       "      <td>...</td>\n",
       "      <td>...</td>\n",
       "      <td>...</td>\n",
       "      <td>...</td>\n",
       "    </tr>\n",
       "    <tr>\n",
       "      <td>2021-02-16</td>\n",
       "      <td>17.900000</td>\n",
       "      <td>17.510000</td>\n",
       "      <td>17.629999</td>\n",
       "      <td>17.820000</td>\n",
       "      <td>33507900.0</td>\n",
       "      <td>17.820000</td>\n",
       "    </tr>\n",
       "    <tr>\n",
       "      <td>2021-02-17</td>\n",
       "      <td>18.340000</td>\n",
       "      <td>17.480000</td>\n",
       "      <td>17.690001</td>\n",
       "      <td>17.990000</td>\n",
       "      <td>35475700.0</td>\n",
       "      <td>17.990000</td>\n",
       "    </tr>\n",
       "    <tr>\n",
       "      <td>2021-02-18</td>\n",
       "      <td>17.980000</td>\n",
       "      <td>17.450001</td>\n",
       "      <td>17.830000</td>\n",
       "      <td>17.709999</td>\n",
       "      <td>26269700.0</td>\n",
       "      <td>17.709999</td>\n",
       "    </tr>\n",
       "    <tr>\n",
       "      <td>2021-02-19</td>\n",
       "      <td>18.830000</td>\n",
       "      <td>17.780001</td>\n",
       "      <td>17.900000</td>\n",
       "      <td>18.680000</td>\n",
       "      <td>48462100.0</td>\n",
       "      <td>18.680000</td>\n",
       "    </tr>\n",
       "    <tr>\n",
       "      <td>2021-02-22</td>\n",
       "      <td>21.110001</td>\n",
       "      <td>19.309999</td>\n",
       "      <td>19.840000</td>\n",
       "      <td>20.440001</td>\n",
       "      <td>99463000.0</td>\n",
       "      <td>20.440001</td>\n",
       "    </tr>\n",
       "  </tbody>\n",
       "</table>\n",
       "<p>1484 rows × 6 columns</p>\n",
       "</div>"
      ],
      "text/plain": [
       "                 High        Low       Open      Close      Volume  Adj Close\n",
       "Date                                                                         \n",
       "2015-04-01  51.380001  50.110001  51.099998  50.439999  15191500.0  47.888901\n",
       "2015-04-02  50.849998  49.150002  50.480000  49.180000  14109800.0  46.692623\n",
       "2015-04-06  48.689999  47.669998  48.349998  48.080002  13323400.0  45.648262\n",
       "2015-04-07  48.799999  47.490002  48.299999  47.500000   9393200.0  45.097588\n",
       "2015-04-08  49.090000  47.730000  47.799999  48.740002  11180000.0  46.274883\n",
       "...               ...        ...        ...        ...         ...        ...\n",
       "2021-02-16  17.900000  17.510000  17.629999  17.820000  33507900.0  17.820000\n",
       "2021-02-17  18.340000  17.480000  17.690001  17.990000  35475700.0  17.990000\n",
       "2021-02-18  17.980000  17.450001  17.830000  17.709999  26269700.0  17.709999\n",
       "2021-02-19  18.830000  17.780001  17.900000  18.680000  48462100.0  18.680000\n",
       "2021-02-22  21.110001  19.309999  19.840000  20.440001  99463000.0  20.440001\n",
       "\n",
       "[1484 rows x 6 columns]"
      ]
     },
     "execution_count": 2,
     "metadata": {},
     "output_type": "execute_result"
    }
   ],
   "source": [
    "#df = pd.read_csv('Downloads/AAL.csv')\n",
    "df = pdr.get_data_yahoo('AAL', start = '2015-04-01', end = '2021-02-22')\n",
    "#df.drop(['Volume','Open','High','Low','Adj Close'],axis=1,inplace=True)\n",
    "#df[\"Date\"] = pd.to_datetime(df['Date'], format='%Y.%m.%d')\n",
    "df"
   ]
  },
  {
   "cell_type": "code",
   "execution_count": 3,
   "metadata": {},
   "outputs": [],
   "source": [
    "data = df.filter(['Close'])\n",
    "dataset = data.values"
   ]
  },
  {
   "cell_type": "code",
   "execution_count": 4,
   "metadata": {},
   "outputs": [],
   "source": [
    "ts = df.groupby(\"Date\")[\"Close\"].sum().rename(\"Trend\")"
   ]
  },
  {
   "cell_type": "code",
   "execution_count": 5,
   "metadata": {},
   "outputs": [
    {
     "data": {
      "text/plain": [
       "<matplotlib.axes._subplots.AxesSubplot at 0x7fa48ec26990>"
      ]
     },
     "execution_count": 5,
     "metadata": {},
     "output_type": "execute_result"
    },
    {
     "data": {
      "image/png": "[encoded data removed]",
      "text/plain": [
       "<Figure size 432x288 with 1 Axes>"
      ]
     },
     "metadata": {
      "needs_background": "light"
     },
     "output_type": "display_data"
    }
   ],
   "source": [
    "ts.plot()"
   ]
  },
  {
   "cell_type": "code",
   "execution_count": 6,
   "metadata": {},
   "outputs": [],
   "source": [
    "train_data_length = math.ceil(len(dataset)* 0.8)\n",
    "scaler = MinMaxScaler(feature_range = (0,1))\n",
    "scaled_data = scaler.fit_transform(dataset)"
   ]
  },
  {
   "cell_type": "code",
   "execution_count": 7,
   "metadata": {},
   "outputs": [
    {
     "name": "stdout",
     "output_type": "stream",
     "text": [
      "[array([0.837548  , 0.81205744, 0.78980378, 0.77806998, 0.80315599,\n",
      "       0.7849484 , 0.78272301, 0.78393688, 0.77645149, 0.78312764,\n",
      "       0.79304068, 0.79202908, 0.82379117, 0.85616022, 0.85696946,\n",
      "       0.85798098, 0.88347154, 0.8664778 , 0.85272097, 0.80598827,\n",
      "       0.79405219, 0.81630585, 0.80740441, 0.76815694, 0.76896618,\n",
      "       0.80962979, 0.80922517, 0.82156586, 0.8053813 , 0.79809834,\n",
      "       0.8047744 , 0.80173978, 0.80841592, 0.78515067, 0.68824602,\n",
      "       0.67630994, 0.67914222, 0.65790007, 0.67165691, 0.66619463,\n",
      "       0.67428683, 0.7109043 , 0.70281202, 0.68966215, 0.67024069,\n",
      "       0.66113697, 0.62350799, 0.63301641, 0.63503944, 0.62674489,\n",
      "       0.64070399, 0.6277564 , 0.61582033, 0.62391261, 0.62593564,\n",
      "       0.65790007, 0.68763904, 0.68156987, 0.67165691, 0.67165691])]\n",
      "[0.6554723414872452]\n",
      "\n",
      "[array([0.837548  , 0.81205744, 0.78980378, 0.77806998, 0.80315599,\n",
      "       0.7849484 , 0.78272301, 0.78393688, 0.77645149, 0.78312764,\n",
      "       0.79304068, 0.79202908, 0.82379117, 0.85616022, 0.85696946,\n",
      "       0.85798098, 0.88347154, 0.8664778 , 0.85272097, 0.80598827,\n",
      "       0.79405219, 0.81630585, 0.80740441, 0.76815694, 0.76896618,\n",
      "       0.80962979, 0.80922517, 0.82156586, 0.8053813 , 0.79809834,\n",
      "       0.8047744 , 0.80173978, 0.80841592, 0.78515067, 0.68824602,\n",
      "       0.67630994, 0.67914222, 0.65790007, 0.67165691, 0.66619463,\n",
      "       0.67428683, 0.7109043 , 0.70281202, 0.68966215, 0.67024069,\n",
      "       0.66113697, 0.62350799, 0.63301641, 0.63503944, 0.62674489,\n",
      "       0.64070399, 0.6277564 , 0.61582033, 0.62391261, 0.62593564,\n",
      "       0.65790007, 0.68763904, 0.68156987, 0.67165691, 0.67165691]), array([0.81205744, 0.78980378, 0.77806998, 0.80315599, 0.7849484 ,\n",
      "       0.78272301, 0.78393688, 0.77645149, 0.78312764, 0.79304068,\n",
      "       0.79202908, 0.82379117, 0.85616022, 0.85696946, 0.85798098,\n",
      "       0.88347154, 0.8664778 , 0.85272097, 0.80598827, 0.79405219,\n",
      "       0.81630585, 0.80740441, 0.76815694, 0.76896618, 0.80962979,\n",
      "       0.80922517, 0.82156586, 0.8053813 , 0.79809834, 0.8047744 ,\n",
      "       0.80173978, 0.80841592, 0.78515067, 0.68824602, 0.67630994,\n",
      "       0.67914222, 0.65790007, 0.67165691, 0.66619463, 0.67428683,\n",
      "       0.7109043 , 0.70281202, 0.68966215, 0.67024069, 0.66113697,\n",
      "       0.62350799, 0.63301641, 0.63503944, 0.62674489, 0.64070399,\n",
      "       0.6277564 , 0.61582033, 0.62391261, 0.62593564, 0.65790007,\n",
      "       0.68763904, 0.68156987, 0.67165691, 0.67165691, 0.65547234])]\n",
      "[0.6554723414872452, 0.621282606838869]\n",
      "\n"
     ]
    }
   ],
   "source": [
    "train_data = scaled_data[0:train_data_length, : ]\n",
    "x_train = []\n",
    "y_train = []\n",
    "\n",
    "for i in range(60,len(train_data)):\n",
    "    x_train.append(train_data[i-60:i,0])\n",
    "    y_train.append(train_data[i,0])\n",
    "    if i<= 61:\n",
    "        print(x_train)\n",
    "        print(y_train)\n",
    "        print()"
   ]
  },
  {
   "cell_type": "code",
   "execution_count": 8,
   "metadata": {},
   "outputs": [
    {
     "data": {
      "text/plain": [
       "(1128, 60, 1)"
      ]
     },
     "execution_count": 8,
     "metadata": {},
     "output_type": "execute_result"
    }
   ],
   "source": [
    "x_train = np.array(x_train)\n",
    "y_train = np.array(y_train)\n",
    "x_train = np.reshape(x_train,(x_train.shape[0],x_train.shape[1],1))\n",
    "x_train.shape"
   ]
  },
  {
   "cell_type": "code",
   "execution_count": 9,
   "metadata": {},
   "outputs": [
    {
     "name": "stdout",
     "output_type": "stream",
     "text": [
      "Epoch 1/1\n",
      "1128/1128 [==============================] - 59s 52ms/step - loss: 0.0037\n"
     ]
    },
    {
     "data": {
      "text/plain": [
       "<keras.callbacks.callbacks.History at 0x7fa47bce4ed0>"
      ]
     },
     "execution_count": 9,
     "metadata": {},
     "output_type": "execute_result"
    }
   ],
   "source": [
    "model = Sequential()\n",
    "model.add(LSTM(50,return_sequences=True,input_shape=(x_train.shape[1],1)))\n",
    "model.add(LSTM(50,return_sequences=False))\n",
    "model.add(Dense(25))\n",
    "model.add(Dense(1))\n",
    "model.compile(optimizer='adam',loss = 'mean_squared_error')\n",
    "model.fit(x_train,y_train,batch_size=1,epochs=1)"
   ]
  },
  {
   "cell_type": "code",
   "execution_count": 10,
   "metadata": {},
   "outputs": [],
   "source": [
    "test_data = scaled_data[train_data_length-60:, :]\n",
    "x_test = []\n",
    "y_test = dataset[train_data_length:, :]\n",
    "for i in range(60,len(test_data)):\n",
    "    x_test.append(test_data[i-60:i,0])"
   ]
  },
  {
   "cell_type": "code",
   "execution_count": 11,
   "metadata": {},
   "outputs": [],
   "source": [
    "x_test = np.array(x_test)\n",
    "x_test = np.reshape(x_test,(x_test.shape[0],x_test.shape[1],1))\n",
    "predictions = model.predict(x_test)\n",
    "predictions = scaler.inverse_transform(predictions)"
   ]
  },
  {
   "cell_type": "code",
   "execution_count": 12,
   "metadata": {},
   "outputs": [
    {
     "data": {
      "text/plain": [
       "1.6299200186858307"
      ]
     },
     "execution_count": 12,
     "metadata": {},
     "output_type": "execute_result"
    }
   ],
   "source": [
    "rmse = np.sqrt(np.mean(predictions - y_test)**2)\n",
    "rmse"
   ]
  },
  {
   "cell_type": "code",
   "execution_count": 13,
   "metadata": {
    "scrolled": true
   },
   "outputs": [
    {
     "name": "stderr",
     "output_type": "stream",
     "text": [
      "/Users/sampathgubbala/opt/anaconda3/lib/python3.7/site-packages/ipykernel_launcher.py:3: SettingWithCopyWarning: \n",
      "A value is trying to be set on a copy of a slice from a DataFrame.\n",
      "Try using .loc[row_indexer,col_indexer] = value instead\n",
      "\n",
      "See the caveats in the documentation: http://pandas.pydata.org/pandas-docs/stable/user_guide/indexing.html#returning-a-view-versus-a-copy\n",
      "  This is separate from the ipykernel package so we can avoid doing imports until\n"
     ]
    },
    {
     "data": {
      "image/png": "[encoded data removed]",
      "text/plain": [
       "<Figure size 1152x576 with 1 Axes>"
      ]
     },
     "metadata": {
      "needs_background": "light"
     },
     "output_type": "display_data"
    }
   ],
   "source": [
    "train = data[:train_data_length]\n",
    "valid = data[train_data_length:]\n",
    "valid['predictions']= predictions\n",
    "plt.figure(figsize = (16,8))\n",
    "plt.xlabel('Date')\n",
    "plt.ylabel('Close Price')\n",
    "plt.plot(train['Close'])\n",
    "plt.plot(valid[['Close','predictions']])\n",
    "plt.legend(['Train','Val','predictions'])\n",
    "plt.show()"
   ]
  },
  {
   "cell_type": "code",
   "execution_count": 14,
   "metadata": {},
   "outputs": [
    {
     "data": {
      "text/html": [
       "<div>\n",
       "<style scoped>\n",
       "    .dataframe tbody tr th:only-of-type {\n",
       "        vertical-align: middle;\n",
       "    }\n",
       "\n",
       "    .dataframe tbody tr th {\n",
       "        vertical-align: top;\n",
       "    }\n",
       "\n",
       "    .dataframe thead th {\n",
       "        text-align: right;\n",
       "    }\n",
       "</style>\n",
       "<table border=\"1\" class=\"dataframe\">\n",
       "  <thead>\n",
       "    <tr style=\"text-align: right;\">\n",
       "      <th></th>\n",
       "      <th>Close</th>\n",
       "      <th>predictions</th>\n",
       "    </tr>\n",
       "    <tr>\n",
       "      <th>Date</th>\n",
       "      <th></th>\n",
       "      <th></th>\n",
       "    </tr>\n",
       "  </thead>\n",
       "  <tbody>\n",
       "    <tr>\n",
       "      <td>2019-12-18</td>\n",
       "      <td>28.000000</td>\n",
       "      <td>27.002714</td>\n",
       "    </tr>\n",
       "    <tr>\n",
       "      <td>2019-12-19</td>\n",
       "      <td>28.549999</td>\n",
       "      <td>27.096069</td>\n",
       "    </tr>\n",
       "    <tr>\n",
       "      <td>2019-12-20</td>\n",
       "      <td>29.040001</td>\n",
       "      <td>27.227602</td>\n",
       "    </tr>\n",
       "    <tr>\n",
       "      <td>2019-12-23</td>\n",
       "      <td>29.299999</td>\n",
       "      <td>27.409512</td>\n",
       "    </tr>\n",
       "    <tr>\n",
       "      <td>2019-12-24</td>\n",
       "      <td>29.180000</td>\n",
       "      <td>27.619684</td>\n",
       "    </tr>\n",
       "    <tr>\n",
       "      <td>...</td>\n",
       "      <td>...</td>\n",
       "      <td>...</td>\n",
       "    </tr>\n",
       "    <tr>\n",
       "      <td>2021-02-16</td>\n",
       "      <td>17.820000</td>\n",
       "      <td>18.421993</td>\n",
       "    </tr>\n",
       "    <tr>\n",
       "      <td>2021-02-17</td>\n",
       "      <td>17.990000</td>\n",
       "      <td>18.460064</td>\n",
       "    </tr>\n",
       "    <tr>\n",
       "      <td>2021-02-18</td>\n",
       "      <td>17.709999</td>\n",
       "      <td>18.534122</td>\n",
       "    </tr>\n",
       "    <tr>\n",
       "      <td>2021-02-19</td>\n",
       "      <td>18.680000</td>\n",
       "      <td>18.593910</td>\n",
       "    </tr>\n",
       "    <tr>\n",
       "      <td>2021-02-22</td>\n",
       "      <td>20.440001</td>\n",
       "      <td>18.726433</td>\n",
       "    </tr>\n",
       "  </tbody>\n",
       "</table>\n",
       "<p>296 rows × 2 columns</p>\n",
       "</div>"
      ],
      "text/plain": [
       "                Close  predictions\n",
       "Date                              \n",
       "2019-12-18  28.000000    27.002714\n",
       "2019-12-19  28.549999    27.096069\n",
       "2019-12-20  29.040001    27.227602\n",
       "2019-12-23  29.299999    27.409512\n",
       "2019-12-24  29.180000    27.619684\n",
       "...               ...          ...\n",
       "2021-02-16  17.820000    18.421993\n",
       "2021-02-17  17.990000    18.460064\n",
       "2021-02-18  17.709999    18.534122\n",
       "2021-02-19  18.680000    18.593910\n",
       "2021-02-22  20.440001    18.726433\n",
       "\n",
       "[296 rows x 2 columns]"
      ]
     },
     "execution_count": 14,
     "metadata": {},
     "output_type": "execute_result"
    }
   ],
   "source": [
    "valid"
   ]
  },
  {
   "cell_type": "code",
   "execution_count": 15,
   "metadata": {},
   "outputs": [],
   "source": [
    "df_2 = df.filter(['Close']) \n",
    "last_60days = df_2[-60: ].values \n",
    "last_60days_scaled = scaler.transform(last_60days)"
   ]
  },
  {
   "cell_type": "code",
   "execution_count": 16,
   "metadata": {},
   "outputs": [],
   "source": [
    "X_test = []\n",
    "X_test.append(last_60days_scaled)\n",
    "X_test = np.array(X_test)\n",
    "X_test = np.reshape(X_test,(X_test.shape[0],X_test.shape[1],1))"
   ]
  },
  {
   "cell_type": "code",
   "execution_count": 17,
   "metadata": {},
   "outputs": [
    {
     "name": "stdout",
     "output_type": "stream",
     "text": [
      "[[19.038952]]\n"
     ]
    }
   ],
   "source": [
    "pred_price = model.predict(X_test)\n",
    "pred_price = scaler.inverse_transform(pred_price)\n",
    "print(pred_price)"
   ]
  },
  {
   "cell_type": "code",
   "execution_count": null,
   "metadata": {},
   "outputs": [],
   "source": []
  },
  {
   "cell_type": "code",
   "execution_count": null,
   "metadata": {},
   "outputs": [],
   "source": []
  }
 ],
 "metadata": {
  "kernelspec": {
   "display_name": "Python 3",
   "language": "python",
   "name": "python3"
  },
  "language_info": {
   "codemirror_mode": {
    "name": "ipython",
    "version": 3
   },
   "file_extension": ".py",
   "mimetype": "text/x-python",
   "name": "python",
   "nbconvert_exporter": "python",
   "pygments_lexer": "ipython3",
   "version": "3.7.4"
  }
 },
 "nbformat": 4,
 "nbformat_minor": 2
}
